{
 "cells": [
  {
   "cell_type": "code",
   "execution_count": null,
   "metadata": {},
   "outputs": [],
   "source": [
    "import matplotlib.pyplot as plt\n",
    "import numpy as np\n",
    "import pandas as pd\n",
    "from sklearn.utils import shuffle"
   ]
  },
  {
   "cell_type": "code",
   "execution_count": null,
   "metadata": {},
   "outputs": [],
   "source": [
    "# Hypothesis \n",
    "# sigmoid regression h(theta) = 1/(1 + e^(-z))\n",
    "# z = X*Theta\n",
    "\n",
    "def sigmoid(features_train,theta):\n",
    "    z = 1/(1 + np.exp(-hypothesis(features_train,theta)))\n",
    "    return z"
   ]
  },
  {
   "cell_type": "code",
   "execution_count": null,
   "metadata": {},
   "outputs": [],
   "source": [
    "#x dimension should be size*3\n",
    "# theta dimesion should be 1*3\n",
    "def hypothesis(features_train, theta):\n",
    "    temp = np.matmul(theta,features_train.T)\n",
    "    return temp"
   ]
  },
  {
   "cell_type": "code",
   "execution_count": null,
   "metadata": {},
   "outputs": [],
   "source": [
    "def cost_fun(m, x, y, theta):\n",
    "    part1 = np.matmul((1-y).T,np.log(1-sigmoid(x,theta)).T)\n",
    "    part2 = np.dot(y.T,np.log(sigmoid(x,theta)).T) + part1\n",
    "    cost = -((1/m)*part2)\n",
    "    return cost"
   ]
  },
  {
   "cell_type": "code",
   "execution_count": null,
   "metadata": {},
   "outputs": [],
   "source": [
    "def gradient_descent(alpha, m, x ,y,theta):\n",
    "    temp4 = (sigmoid(x,theta) - y.T)\n",
    "    temp =  np.matmul(temp4,x)\n",
    "    theta = theta - (alpha/m) * temp\n",
    "    return theta"
   ]
  },
  {
   "cell_type": "code",
   "execution_count": null,
   "metadata": {},
   "outputs": [],
   "source": [
    "def predict(x, y, theta):\n",
    "    predicted = sigmoid(x,theta)\n",
    "    for i in range(len(predicted[0])):\n",
    "        if(predicted[0][i]>=0.5):\n",
    "            predicted[0][i] = 1\n",
    "        else:\n",
    "            predicted[0][i] = 0\n",
    "    print(predicted.astype(int))\n",
    "    input()"
   ]
  },
  {
   "cell_type": "code",
   "execution_count": null,
   "metadata": {},
   "outputs": [],
   "source": [
    "#change the path if required\n",
    "iris = pd.read_csv(r'/Users/vedadnya_98/Desktop/HomeWork Zips/Machine Learning/Assignment 1/iris.csv')"
   ]
  },
  {
   "cell_type": "code",
   "execution_count": null,
   "metadata": {},
   "outputs": [],
   "source": [
    "iris = shuffle(iris)\n",
    "iris.head()\n",
    "print(iris.shape)"
   ]
  },
  {
   "cell_type": "code",
   "execution_count": null,
   "metadata": {},
   "outputs": [],
   "source": [
    "iris.info()\n",
    "mapping = {\n",
    "    'Iris-virginica' : 1,\n",
    "    'Iris-versicolor': 0,\n",
    "    'Iris-setosa'    : 0\n",
    "}"
   ]
  },
  {
   "cell_type": "code",
   "execution_count": null,
   "metadata": {},
   "outputs": [],
   "source": [
    "# Plot the relation of each feature with each species\n",
    "\n",
    "plt.xlabel('Features')\n",
    "plt.ylabel('Species')\n",
    "\n",
    "pltX = iris.loc[:, 'sepal_length']\n",
    "pltY = iris.loc[:,'species']\n",
    "plt.scatter(pltX, pltY, color='blue', label='sepal_length')\n",
    "\n",
    "pltX = iris.loc[:, 'sepal_width']\n",
    "pltY = iris.loc[:,'species']\n",
    "plt.scatter(pltX, pltY, color='green', label='sepal_width')\n",
    "\n",
    "pltX = iris.loc[:, 'petal_length']\n",
    "pltY = iris.loc[:,'species']\n",
    "plt.scatter(pltX, pltY, color='red', label='petal_length')\n",
    "\n",
    "pltX = iris.loc[:, 'petal_width']\n",
    "pltY = iris.loc[:,'species']\n",
    "plt.scatter(pltX, pltY, color='black', label='petal_width')\n",
    "\n",
    "plt.legend(loc=4, prop={'size':8})\n",
    "plt.show()"
   ]
  },
  {
   "cell_type": "code",
   "execution_count": null,
   "metadata": {},
   "outputs": [],
   "source": [
    "rows, col = iris.shape\n",
    "bias = np.ones(len(iris))\n",
    "X = iris.loc[:,['sepal_length','sepal_width']]\n",
    "X.insert(0,'bias',bias)\n",
    "lables = iris.species.replace(mapping).values.reshape(rows,1)"
   ]
  },
  {
   "cell_type": "code",
   "execution_count": null,
   "metadata": {},
   "outputs": [],
   "source": [
    "feature_train, feature_test = X[0:50], X[51:]\n",
    "lables_train, lables_test = lables[0:50], lables[51:]"
   ]
  },
  {
   "cell_type": "code",
   "execution_count": null,
   "metadata": {},
   "outputs": [],
   "source": [
    "theta = np.zeros(3,dtype='int')\n",
    "theta = theta.reshape(1,3)\n",
    "learning_rate = 0.1\n",
    "iters = 5000\n",
    "cost = np.zeros(iters)\n",
    "for i in range(iters):\n",
    "    theta = gradient_descent(learning_rate, len(lables_train) ,feature_train,lables_train ,theta)\n",
    "    cost[i] = cost_fun(len(lables_train) ,feature_train, lables_train, theta)\n",
    "print(theta)"
   ]
  },
  {
   "cell_type": "code",
   "execution_count": null,
   "metadata": {},
   "outputs": [],
   "source": [
    "predict(feature_train, lables_train, theta)"
   ]
  }
 ],
 "metadata": {
  "kernelspec": {
   "display_name": "Python 3",
   "language": "python",
   "name": "python3"
  },
  "language_info": {
   "codemirror_mode": {
    "name": "ipython",
    "version": 3
   },
   "file_extension": ".py",
   "mimetype": "text/x-python",
   "name": "python",
   "nbconvert_exporter": "python",
   "pygments_lexer": "ipython3",
   "version": "3.7.3"
  }
 },
 "nbformat": 4,
 "nbformat_minor": 2
}
